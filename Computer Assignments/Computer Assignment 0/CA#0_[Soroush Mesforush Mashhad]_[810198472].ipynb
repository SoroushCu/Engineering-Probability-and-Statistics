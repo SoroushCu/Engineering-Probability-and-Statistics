{
 "cells": [
  {
   "cell_type": "markdown",
   "metadata": {},
   "source": [
    "# EPS CA0\n",
    "\n",
    "### Soroush Mesforush Mashhad\n",
    "#### Student No:810198472"
   ]
  },
  {
   "cell_type": "markdown",
   "metadata": {},
   "source": [
    "# 1\n",
    "In this excersice I have created a function that Gets N as number of elements from the user and prints N Fibonacci Elements"
   ]
  },
  {
   "cell_type": "code",
   "execution_count": 1,
   "metadata": {},
   "outputs": [
    {
     "name": "stdout",
     "output_type": "stream",
     "text": [
      "Enter Wanted Element Numbers : 5\n",
      "[1, 1, 2, 3, 5]\n"
     ]
    }
   ],
   "source": [
    "def Fibonacci(n):\n",
    "        #Here I have Defined the needed variables including an empty array with the length of wanted elements\n",
    "        T1=0\n",
    "        T2=1\n",
    "        Fib_Array=[None]*n\n",
    "        #Here I have Checked For Wrong Values.\n",
    "        if n<=0:\n",
    "            print('Wrong Values!')\n",
    "            return \n",
    "        #In this For loop I have created the Fibonacci Series Element by Element and at the end of it I return it.\n",
    "        for i in range(0,n):\n",
    "            Fib_Array[i]=T2\n",
    "            T3 = T1+T2\n",
    "            T1=T2\n",
    "            T2=T3\n",
    "        return Fib_Array\n",
    "N = int(input('Enter Wanted Element Numbers : '))\n",
    "Fib = Fibonacci(N)\n",
    "if N>0:\n",
    "    print(Fib)"
   ]
  },
  {
   "cell_type": "markdown",
   "metadata": {},
   "source": [
    "# 2\n",
    "In this Excersise we create the Pascal Matrix"
   ]
  },
  {
   "cell_type": "code",
   "execution_count": 2,
   "metadata": {},
   "outputs": [
    {
     "name": "stdout",
     "output_type": "stream",
     "text": [
      "Enter Wanted dimensions for nXn matrix :5\n",
      "[[1. 0. 0. 0. 0.]\n",
      " [1. 1. 0. 0. 0.]\n",
      " [1. 2. 1. 0. 0.]\n",
      " [1. 3. 3. 1. 0.]\n",
      " [1. 4. 6. 4. 1.]]\n"
     ]
    }
   ],
   "source": [
    "import numpy as np\n",
    "def Pascal_Matrix(n):\n",
    "    #Here I have defined my needed Variables including an nXn Numpy array.\n",
    "    Temp=1\n",
    "    Pas_Array=np.zeros([n,n])\n",
    "    #Using these two for loops I have made the matrix\n",
    "    for ln in range(0,n):\n",
    "        for cn in range(0,ln+1):\n",
    "            #Here I Check to see whether the position is appropriate to print the Vertical and Diagonal 1's\n",
    "            if cn == 0 or cn == ln:\n",
    "                Pas_Array[ln][cn]=1\n",
    "            #Here I Create the other elements of the Matrix by adding the suitable elements accordingly.\n",
    "            else:\n",
    "                Pas_Array[ln][cn]=Pas_Array[ln-1][cn]+Pas_Array[ln-1][cn-1]\n",
    "    return Pas_Array\n",
    "N = int(input(\"Enter Wanted dimensions for nXn matrix :\"))\n",
    "Matrix=Pascal_Matrix(N)\n",
    "print(Matrix)"
   ]
  },
  {
   "cell_type": "markdown",
   "metadata": {},
   "source": [
    "# 3\n",
    "In this part I have written a function that gets two words from the user and inserts one with the another.\n",
    "p.s(Try typing bulletproof as word1 and BULLETPROOF as word2!,I have included my txt file in the Zip file of this CA.)"
   ]
  },
  {
   "cell_type": "code",
   "execution_count": 3,
   "metadata": {},
   "outputs": [
    {
     "name": "stdout",
     "output_type": "stream",
     "text": [
      "Enter word1:\n",
      "bulletproof\n",
      "Enter word2:\n",
      "BULLETPROOF\n"
     ]
    }
   ],
   "source": [
    "def Word_Changer(filename,word1,word2):\n",
    "    #Here we open the files for reading and writing respectively.\n",
    "    file1=open(filename,\"r\")\n",
    "    file2=open(\"New.txt\",\"w\")\n",
    "    #In this for loop we read the file line by line and replace the word with the used method then we close the file.\n",
    "    for line in file1:\n",
    "        file2.write(line.replace(word1,word2))\n",
    "    file2.close()\n",
    "    file1.close()\n",
    "word1 = input('Enter word1:\\n')\n",
    "word2 = input('Enter word2:\\n')\n",
    "Word_Changer(\"Monologue.txt\",word1,word2)"
   ]
  },
  {
   "cell_type": "markdown",
   "metadata": {},
   "source": [
    "# 4\n",
    "Here I have created a function that reads the given Data.txt file and makes a list of dictionaries of the people in it.\n",
    "p.s(There was a slight problem in the Data.txt file where in  * between two words the \"space\" had been forgotten which shall spoil the linesplit."
   ]
  },
  {
   "cell_type": "code",
   "execution_count": 4,
   "metadata": {},
   "outputs": [
    {
     "name": "stdout",
     "output_type": "stream",
     "text": [
      "[{'First Name': 'Alex', 'Last Name': 'James', 'Age': 25, 'Heigth': 190, 'Weigth': 84, 'Nationality\\n': 'British\\n'}, {'First Name': 'Sara', 'Last Name': 'Anderson', 'Age': 20, 'Heigth': 160, 'Weigth': 98, 'Nationality\\n': 'American\\n'}, {'First Name': 'Roberto', 'Last Name': 'Carlos', 'Age': 48, 'Heigth': 183, 'Weigth': 78, 'Nationality\\n': 'Spanish\\n'}, {'First Name': 'Mohammad', 'Last Name': 'Amiri', 'Age': 35, 'Heigth': 190, 'Weigth': 77, 'Nationality\\n': 'Iranian '}]\n"
     ]
    }
   ],
   "source": [
    "def Dict_Maker(Filename):\n",
    "    #Here we open the file\n",
    "    file = open(Filename,\"r\")\n",
    "    #We pour the keys of our Dicts into an array.\n",
    "    keys=file.readline().split(', ')\n",
    "    #We create an empty List for the dictionaries\n",
    "    Dict_Lists=[]\n",
    "    count=0\n",
    "    #In this loop we complete the necessary actions\n",
    "    for line in file:\n",
    "        #I pour the elements of each line with the desired split.\n",
    "        Temp=line.split(\" * \")\n",
    "        #I make a Dict from each line which is each person.\n",
    "        Dict=dict(zip(keys,Temp))\n",
    "        #In the following loops I capitalize the names and convert the numbers from strings to integers.\n",
    "        for i in range(0,2):\n",
    "            Dict[keys[i]]=Dict[keys[i]].capitalize()\n",
    "        for k in range(2,5):\n",
    "            Dict[keys[k]]=int(Dict[keys[k]])\n",
    "        #I append Each Dict to the previously created empty list.\n",
    "        Dict_Lists.append(Dict)\n",
    "        Dict={}\n",
    "        count=count+1\n",
    "    return Dict_Lists\n",
    "Final_List=Dict_Maker(\"Data.txt\")\n",
    "print(Final_List)"
   ]
  },
  {
   "cell_type": "markdown",
   "metadata": {},
   "source": [
    "# 5\n",
    "Here I have created a function that reads a csv file and calculates the GPA(میانگین وزندار) of a student's grades in the Scale of 4 and also adds a column to the original csv file"
   ]
  },
  {
   "cell_type": "code",
   "execution_count": 5,
   "metadata": {},
   "outputs": [
    {
     "name": "stdout",
     "output_type": "stream",
     "text": [
      "3.2162162162162162\n"
     ]
    }
   ],
   "source": [
    "import pandas as pd\n",
    "def GPA_Calculator():\n",
    "    #Here by using pandas I read the csv file and by using T.values.tolist() method I convert it into a list of lists.\n",
    "    df = pd.read_csv('Transcripts.csv')\n",
    "    data_list = df.T.values.tolist()\n",
    "    # Here I create three lists accordingly(I also make a copy of the marks so I can change them without hesitation).\n",
    "    Course_Names=data_list[0]\n",
    "    Course_Credit=data_list[1]\n",
    "    Course_Mark=data_list[2]\n",
    "    Mark_Copy=Course_Mark\n",
    "    #Here I Scale the Marks to 4.\n",
    "    for i in range(0,len(Course_Mark)):\n",
    "        if Mark_Copy[i]>=16 and Mark_Copy[i]<=20:\n",
    "            Mark_Copy[i]=4\n",
    "        elif Mark_Copy[i]>=14 and Mark_Copy[i]<16:\n",
    "            Mark_Copy[i]=3\n",
    "        elif Mark_Copy[i]>=12 and Mark_Copy[i]<14:\n",
    "            Mark_Copy[i]=2\n",
    "        elif Mark_Copy[i]>=10 and Mark_Copy[i]<11:\n",
    "            Mark_Copy[i]=1\n",
    "        elif Mark_Copy[i]>=0 and Mark_Copy[i]<10:\n",
    "            Mark_Copy[i]=3\n",
    "    #Here I Create two other Variables to calculate the GPA on the scale of 4\n",
    "    Mark_Sum=0\n",
    "    Credit_Sum=0\n",
    "    #In this loop I calculate the needed sums then out of the loop I calculate the GPA.\n",
    "    for k in range(0,len(Mark_Copy)):\n",
    "        Mark_Sum=Mark_Sum+(Mark_Copy[k]*Course_Credit[k])\n",
    "        Credit_Sum=Credit_Sum+Course_Credit[k]\n",
    "    GPA_4=Mark_Sum/Credit_Sum\n",
    "    print(GPA_4)\n",
    "    #Here I add another column to the csv file.\n",
    "    df[\"Mark_4\"] = Mark_Copy\n",
    "    df.to_csv(\"Transcripts.csv\", index=False)\n",
    "GPA_Calculator()    "
   ]
  }
 ],
 "metadata": {
  "kernelspec": {
   "display_name": "Python 3",
   "language": "python",
   "name": "python3"
  },
  "language_info": {
   "codemirror_mode": {
    "name": "ipython",
    "version": 3
   },
   "file_extension": ".py",
   "mimetype": "text/x-python",
   "name": "python",
   "nbconvert_exporter": "python",
   "pygments_lexer": "ipython3",
   "version": "3.8.3"
  }
 },
 "nbformat": 4,
 "nbformat_minor": 4
}
